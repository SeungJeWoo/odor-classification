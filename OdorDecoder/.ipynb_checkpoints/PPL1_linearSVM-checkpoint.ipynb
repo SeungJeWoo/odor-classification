{
 "cells": [
  {
   "cell_type": "code",
   "execution_count": 91,
   "metadata": {},
   "outputs": [],
   "source": [
    "import matplotlib.pyplot as plt\n",
    "import numpy as np\n",
    "import torch\n",
    "import torch.nn as nn\n",
    "import torch.optim as optim\n",
    "import scipy.io\n",
    "import math\n",
    "\n",
    "# format: virtualflies x (PPL1_01, 02, .., 05, odor)\n",
    "# arranged odor #0 - #4\n",
    "virtualFly = scipy.io.loadmat('virtualFly_PPL1.mat')['virtualFly']"
   ]
  },
  {
   "cell_type": "code",
   "execution_count": 425,
   "metadata": {},
   "outputs": [],
   "source": [
    "ODOR_NUM = 5\n",
    "PPL1_NUM = 5\n",
    "NUM_FLIES_PER_ODOR = 12\n",
    "\n",
    "virtualFly.shape\n",
    "\n",
    "VF_OD1 = virtualFly[:NUM_FLIES_PER_ODOR**PPL1_NUM,:]\n",
    "VF_OD2 = virtualFly[NUM_FLIES_PER_ODOR**PPL1_NUM:2*NUM_FLIES_PER_ODOR**PPL1_NUM,:]\n",
    "VF_OD3 = virtualFly[2*NUM_FLIES_PER_ODOR**PPL1_NUM:3*NUM_FLIES_PER_ODOR**PPL1_NUM,:]\n",
    "VF_OD4 = virtualFly[3*NUM_FLIES_PER_ODOR**PPL1_NUM:4*NUM_FLIES_PER_ODOR**PPL1_NUM,:]\n",
    "VF_OD5 = virtualFly[4*NUM_FLIES_PER_ODOR**PPL1_NUM:5*NUM_FLIES_PER_ODOR**PPL1_NUM,:]\n",
    "\n",
    "'''\n",
    "print(VF_OD1.shape)\n",
    "print(VF_OD2.shape)\n",
    "print(VF_OD3.shape)\n",
    "print(VF_OD4.shape)\n",
    "print(VF_OD5.shape)\n",
    "'''\n",
    "\n",
    "#shuffle data within the same odor\n",
    "np.random.shuffle(VF_OD1)\n",
    "np.random.shuffle(VF_OD2)\n",
    "np.random.shuffle(VF_OD3)\n",
    "np.random.shuffle(VF_OD4)\n",
    "np.random.shuffle(VF_OD5)\n",
    "\n"
   ]
  },
  {
   "cell_type": "code",
   "execution_count": 439,
   "metadata": {},
   "outputs": [
    {
     "name": "stdout",
     "output_type": "stream",
     "text": [
      "1119744.0 (1119740, 6)\n",
      "62208.0 (62205, 6)\n",
      "62208.0 (62205, 6)\n",
      "Train shape:  (1119740, 5)\n",
      "Validation shape:  (62205, 5)\n",
      "Test shape:  (62205, 5)\n"
     ]
    }
   ],
   "source": [
    "# dataset arrange\n",
    "\n",
    "numTrain = virtualFly.shape[0] * 0.9\n",
    "numVal = virtualFly.shape[0] * 0.05\n",
    "numTest = virtualFly.shape[0] * 0.05\n",
    "numTrainPerOD = math.floor(numTrain/ODOR_NUM)\n",
    "numValPerOD = math.floor(numVal/ODOR_NUM)\n",
    "numTestPerOD = math.floor(numTest/ODOR_NUM)\n",
    "'''\n",
    "print(numTrain - numTrainPerOD*ODOR_NUM)\n",
    "print(numVal - numValPerOD*ODOR_NUM)\n",
    "print(numTest - numTestPerOD*ODOR_NUM)\n",
    "print(virtualFly.shape[0]/5 - numTrainPerOD - numValPerOD - numTestPerOD)\n",
    "print(numTrainPerOD, numValPerOD, numTestPerOD)\n",
    "'''\n",
    "mask = range(numTrainPerOD)\n",
    "trainSet = np.concatenate((VF_OD1[mask,:], VF_OD2[mask,:], VF_OD3[mask,:], VF_OD4[mask,:], VF_OD5[mask,:]),axis=0) \n",
    "np.random.shuffle(trainSet)\n",
    "X_train = trainSet[:,:PPL1_NUM]\n",
    "y_train = trainSet[:,-1]-1 # -1 to conform python index from 0 to 4 (class imported from MATLAB was from 1 to 5)\n",
    "X_train_shuffle = np.copy(X_train)\n",
    "np.random.shuffle(X_train_shuffle)\n",
    "\n",
    "mask = range(numTrainPerOD, numTrainPerOD+numValPerOD)\n",
    "valSet = np.concatenate((VF_OD1[mask,:], VF_OD2[mask,:], VF_OD3[mask,:], VF_OD4[mask,:], VF_OD5[mask,:]),axis=0) \n",
    "np.random.shuffle(valSet)\n",
    "X_val = valSet[:,:PPL1_NUM]\n",
    "y_val = valSet[:,-1]-1 # to conform python index format\n",
    "\n",
    "mask = range(numTrainPerOD+numValPerOD, numTrainPerOD+numValPerOD+numTestPerOD)\n",
    "testSet = np.concatenate((VF_OD1[mask,:], VF_OD2[mask,:], VF_OD3[mask,:], VF_OD4[mask,:], VF_OD5[mask,:]),axis=0) \n",
    "np.random.shuffle(testSet)\n",
    "X_test = testSet[:,:PPL1_NUM]\n",
    "y_test = testSet[:,-1]-1 # to conform python index format\n",
    "\n",
    "print(numTrain, trainSet.shape)\n",
    "print(numVal, valSet.shape)\n",
    "print(numTest, testSet.shape)\n",
    "\n",
    "print('Train shape: ', X_train.shape)\n",
    "print('Validation shape: ', X_val.shape)\n",
    "print('Test shape: ', X_test.shape)\n"
   ]
  },
  {
   "cell_type": "code",
   "execution_count": 440,
   "metadata": {},
   "outputs": [
    {
     "name": "stdout",
     "output_type": "stream",
     "text": [
      "[ 1.20895325  7.02083382 -0.05205665  2.78012177  8.15638684] \n",
      " [6.55205266 6.68046122 5.112713   6.88932631 3.8395515 ]\n"
     ]
    },
    {
     "data": {
      "text/plain": [
       "'\\nX_train /= std\\nX_val /= std\\nX_test /= std\\n'"
      ]
     },
     "execution_count": 440,
     "metadata": {},
     "output_type": "execute_result"
    }
   ],
   "source": [
    "# preprocessing\n",
    "\n",
    "#-mean - should do std as well?\n",
    "mean = np.mean(X_train, axis=0)\n",
    "std = np.std(X_train, axis=0)\n",
    "print(mean,'\\n', std)\n",
    "\n",
    "X_train -= mean\n",
    "X_train_shuffle -= mean\n",
    "X_val -= mean\n",
    "X_test -= mean\n",
    "\n",
    "'''\n",
    "X_train /= std\n",
    "X_val /= std\n",
    "X_test /= std\n",
    "'''"
   ]
  },
  {
   "cell_type": "code",
   "execution_count": 457,
   "metadata": {},
   "outputs": [],
   "source": [
    "def train(X, Y, XV, YV, model, lr, reg, batchSize, epoch):\n",
    "    X = torch.Tensor(X)\n",
    "    Y = torch.Tensor(Y)\n",
    "    #X = torch.FloatTensor(X)\n",
    "    #Y = torch.FloatTensor(Y)\n",
    "    N = len(Y)\n",
    "    XV = torch.FloatTensor(XV)\n",
    "    YV = torch.FloatTensor(YV)\n",
    "\n",
    "    #optimizer = optim.SGD(model.parameters(), lr=lr, momentum=0.9)\n",
    "    optimizer = optim.Adam(model.parameters(), lr=lr)\n",
    "\n",
    "\n",
    "   \n",
    "    for epoch in range(epoch):\n",
    "        perm = torch.randperm(N)\n",
    "        sum_loss = 0\n",
    "        model.train()\n",
    "        for i in range(0, N, batchSize):\n",
    "            x = X[perm[i:i+batchSize]]\n",
    "            y = Y[perm[i:i+batchSize]]\n",
    "\n",
    "            optimizer.zero_grad()\n",
    "            weight = model.weight\n",
    "            bias = model.bias\n",
    "            output = model(x)\n",
    "            \n",
    "            #print(weight)\n",
    "            #print(bias)\n",
    "            #print(x)\n",
    "            #print(x.double() @ weight + bias.double())\n",
    "            #print(torch.mm(x, torch.t(model.weight))\n",
    "            #print(torch.addmm(bias, x, torch.t(weight)))\n",
    "            \n",
    "            '''\n",
    "            print(\"x:\",x)\n",
    "            print(\"y:\",y.long())\n",
    "            print(\"output:\",output)\n",
    "            '''\n",
    "            \n",
    "            correct_class_score = output[torch.arange(x.shape[0]), y.long()]\n",
    "            \n",
    "            margin = torch.maximum(torch.zeros(output.shape), output - correct_class_score.unsqueeze(1) + 1) # delta is 1\n",
    "            loss = (torch.sum(margin)-1*x.shape[0])/x.shape[0] # remove correct case when delta is 1\n",
    "            #print(\"loss1:\", loss)\n",
    "            loss += reg * torch.sum((weight.t() @ weight)) #/ 2.0\n",
    "            #print(\"loss2:\", loss)\n",
    "            \n",
    "            '''\n",
    "            print(output - correct_class_score.unsqueeze(1)+1)\n",
    "            print(torch.zeros(output.shape))\n",
    "            print(correct_class_score)\n",
    "            print(\"loss:\", loss)\n",
    "            '''\n",
    "            #loss = torch.mean(torch.clamp(1 - y * output, min=0))\n",
    "            \n",
    "            loss.backward()\n",
    "            optimizer.step()\n",
    "\n",
    "            sum_loss += float(loss)\n",
    "            \n",
    "\n",
    "        print(\"Epoch: {:4d}\\tloss: {}\".format(epoch, sum_loss / N))\n",
    "\n",
    "        numScore = 0\n",
    "        model.eval()\n",
    "        for i in range(0, len(YV), batchSize):\n",
    "            x = XV[i:i+batchSize]\n",
    "            y = YV[i:i+batchSize]\n",
    "            \n",
    "            optimizer.zero_grad()\n",
    "            with torch.no_grad():\n",
    "                output = model(x).numpy()\n",
    "                pred = np.argmax(output, axis = 1)\n",
    "                #print(pred)\n",
    "                #print(y.numpy())\n",
    "                numScore += np.sum((pred == y.numpy()))\n",
    "                #print(numScore)\n",
    "            \n",
    "        \n",
    "        print(\"validation acuuracy: {}\".format(numScore / len(YV)))\n",
    "        \n",
    "def test(X, Y, model, batchSize):\n",
    "    XT = torch.FloatTensor(X)\n",
    "    YT = torch.FloatTensor(Y)\n",
    "    numScore = 0\n",
    "    model.eval()\n",
    "    for i in range(0, len(YT), batchSize):\n",
    "        x = XT[i:i+batchSize]\n",
    "        y = YT[i:i+batchSize]\n",
    "        output = model(x).detach().numpy()\n",
    "        pred = np.argmax(output, axis = 1)\n",
    "        #print(pred)\n",
    "        #print(y.numpy())\n",
    "        numScore += np.sum((pred == y.numpy()))\n",
    "        #print(numScore)\n",
    "    print(\"test acuuracy: {}\".format(numScore / len(YT)))\n",
    "\n",
    "\n",
    "        \n",
    "def visualize(X, Y, model):\n",
    "    W = model.weight.squeeze().detach().cpu().numpy()\n",
    "    b = model.bias.squeeze().detach().cpu().numpy()\n",
    "\n",
    "    delta = 0.001\n",
    "    x = np.arange(X[:, 0].min(), X[:, 0].max(), delta)\n",
    "    y = np.arange(X[:, 1].min(), X[:, 1].max(), delta)\n",
    "    x, y = np.meshgrid(x, y)\n",
    "    xy = list(map(np.ravel, [x, y]))\n",
    "\n",
    "    z = (W.dot(xy) + b).reshape(x.shape)\n",
    "    z[np.where(z > 1.0)] = 4\n",
    "    z[np.where((z > 0.0) & (z <= 1.0))] = 3\n",
    "    z[np.where((z > -1.0) & (z <= 0.0))] = 2\n",
    "    z[np.where(z <= -1.0)] = 1\n",
    "\n",
    "    plt.figure(figsize=(10, 10))\n",
    "    plt.xlim([X[:, 0].min() + delta, X[:, 0].max() - delta])\n",
    "    plt.ylim([X[:, 1].min() + delta, X[:, 1].max() - delta])\n",
    "    plt.contourf(x, y, z, alpha=0.8, cmap=\"Greys\")\n",
    "    plt.scatter(x=X[:, 0], y=X[:, 1], c=\"black\", s=10)\n",
    "    plt.tight_layout()\n",
    "    plt.show()\n"
   ]
  },
  {
   "cell_type": "code",
   "execution_count": 458,
   "metadata": {},
   "outputs": [
    {
     "name": "stdout",
     "output_type": "stream",
     "text": [
      "[Parameter containing:\n",
      "tensor([[-0.2470,  0.0653, -0.3567,  0.3030,  0.0298],\n",
      "        [ 0.2051,  0.1397, -0.4210, -0.0158, -0.2440],\n",
      "        [ 0.0085, -0.1184,  0.4108,  0.3798,  0.1309],\n",
      "        [-0.0208, -0.0765, -0.1624, -0.0473,  0.3400],\n",
      "        [-0.2556, -0.2783,  0.3246, -0.1986,  0.0520]], requires_grad=True), Parameter containing:\n",
      "tensor([-0.1394,  0.1393, -0.3365, -0.3078, -0.2304], requires_grad=True)]\n",
      "Epoch:    0\tloss: 0.006064423562796383\n",
      "validation acuuracy: 0.7715456956836267\n",
      "Epoch:    1\tloss: 0.0030992623335462993\n",
      "validation acuuracy: 0.7741178361868017\n",
      "Epoch:    2\tloss: 0.0030032954377750497\n",
      "validation acuuracy: 0.7740053050397878\n",
      "Epoch:    3\tloss: 0.0029852469740785305\n",
      "validation acuuracy: 0.7740535326742223\n",
      "Epoch:    4\tloss: 0.002980184014042577\n",
      "validation acuuracy: 0.7745518848967125\n",
      "Epoch:    5\tloss: 0.0029782942128864513\n",
      "validation acuuracy: 0.7741499879430914\n",
      "Epoch:    6\tloss: 0.0029777735598414744\n",
      "validation acuuracy: 0.7744232778715537\n",
      "Epoch:    7\tloss: 0.0029775514481422687\n",
      "validation acuuracy: 0.7745679607748573\n",
      "Epoch:    8\tloss: 0.002977406995082107\n",
      "validation acuuracy: 0.7740374567960775\n",
      "Epoch:    9\tloss: 0.002977150166421367\n",
      "validation acuuracy: 0.7742625190901054\n",
      "test acuuracy: 0.7739570774053532\n",
      "Shuffle Begins\n",
      "Epoch:    0\tloss: 0.021057862666287442\n",
      "validation acuuracy: 0.27320954907161804\n",
      "Epoch:    1\tloss: 0.019997388621322137\n",
      "validation acuuracy: 0.2014307531548911\n",
      "Epoch:    2\tloss: 0.0199981779449357\n",
      "validation acuuracy: 0.27177879591672693\n",
      "Epoch:    3\tloss: 0.019998327082065843\n",
      "validation acuuracy: 0.34338075717386063\n",
      "Epoch:    4\tloss: 0.020000725062935466\n",
      "validation acuuracy: 0.20377783136403826\n",
      "Epoch:    5\tloss: 0.019998866510541984\n",
      "validation acuuracy: 0.23171770757977656\n",
      "Epoch:    6\tloss: 0.019998545450522664\n",
      "validation acuuracy: 0.19233180612490958\n",
      "Epoch:    7\tloss: 0.019998010855615176\n",
      "validation acuuracy: 0.30637408568443053\n",
      "Epoch:    8\tloss: 0.01999615960371808\n",
      "validation acuuracy: 0.16966481794068\n",
      "Epoch:    9\tloss: 0.019993961874525294\n",
      "validation acuuracy: 0.2255124186158669\n",
      "test acuuracy: 0.22531950807812876\n"
     ]
    }
   ],
   "source": [
    "''' cur best ~77%\n",
    "SGD\n",
    "lr = 0.05\n",
    "reg = 0.001\n",
    "Adam 77.5%\n",
    "lr = 0.001\n",
    "reg = 0.001\n",
    "'''\n",
    "lr = 0.0005\n",
    "reg = 0.0001\n",
    "\n",
    "batchSize = 200\n",
    "epoch = 10\n",
    "    \n",
    "model = nn.Linear(5, 5)\n",
    "print (list(model.parameters()))\n",
    "#print(model.weight)\n",
    "#print(model.bias)\n",
    "#print(torch.nn.Parameter.data)\n",
    "\n",
    "#print(xx.dtype)\n",
    "#print(model(xx) - torch.matmul(xx,torch.t(model.weight)))\n",
    "\n",
    "train(X_train, y_train, X_val, y_val, model, lr, reg, batchSize, epoch)\n",
    "test(X_test, y_test, model, batchSize)\n",
    "\n",
    "\n",
    "print(\"Shuffle Begins\")\n",
    "model_shuffle = nn.Linear(5,5);\n",
    "train(X_train_shuffle, y_train, X_val, y_val, model_shuffle, lr, reg, batchSize, epoch)\n",
    "test(X_test, y_test, model_shuffle, batchSize)\n",
    "\n"
   ]
  },
  {
   "cell_type": "code",
   "execution_count": 313,
   "metadata": {},
   "outputs": [],
   "source": [
    "xx = torch.tensor([[ 18.3556,  11.2551,  10.4667,  18.7093,   9.1235],\n",
    "        [ -7.1320,   6.2612,  -6.3671,  -5.6304,  13.4670],\n",
    "        [  3.1455,  13.6737,  -2.9799,   5.4717,   8.6914],\n",
    "        [ -0.5184,   0.7939,  -4.7021,  -1.7246,   7.3733],\n",
    "        [  3.6465,   5.5052,   3.3588,   4.7678,   5.7946],\n",
    "        [  0.5480,  10.6555,   0.3255,   5.4717,   5.3720],\n",
    "        [ 11.3329,   9.2372,   6.2604,  18.7093,   8.6545],\n",
    "        [ -6.6358,   1.3361,  -7.5656,  -6.2330,   2.9718],\n",
    "        [  3.1100,   9.3959,  -1.9655,  -2.9245,   5.3801],\n",
    "        [ -3.3120,  -2.8849,  -8.7170,  -1.5171,   5.2838],\n",
    "        [ -2.9930,   3.5965,  -0.7797,   5.7955,   6.7604],\n",
    "        [ -2.7349,   1.7304,  -4.6014,  -2.9245,   4.8635],\n",
    "        [  3.1304,  11.9420,   0.7519,   5.3823,  12.0541],\n",
    "        [  3.1304,   5.4159,   1.5061,   4.2113,   7.0133],\n",
    "        [ -2.4892,  -3.3019,   0.5850,   1.8125,   5.2627],\n",
    "        [  3.1100,  -0.5393,  -0.8254,  -3.4633,   6.1646],\n",
    "        [ 11.3402,  18.3113,   7.4947,   5.5750,  15.5551],\n",
    "        [  3.0301,  21.4947,   5.0392,   6.9411,   6.7532],\n",
    "        [-14.0210,  -2.9126,  -1.8778,  -1.8494,   3.5045],\n",
    "        [ 11.3402,   9.2195,  -1.0257,  11.9205,  15.5551],\n",
    "        [  9.8075,  15.7215,   6.2604,  11.6242,  13.3415],\n",
    "        [ -1.1965,   6.8397,  -3.2588,   2.5741,   7.3733],\n",
    "        [ -3.9821,   6.8397, -11.1100,  -1.7246,   7.3733],\n",
    "        [ -6.6358,   0.8053,  -6.3671,  -1.5171,   0.7742],\n",
    "        [  1.0759,  15.7215,   4.5334,  10.1351,  15.5551],\n",
    "        [ -1.2296,  13.8658,   5.5302,   7.0811,   7.6821],\n",
    "        [  4.7284,   8.3999,   0.7519,  -1.1066,   7.4467],\n",
    "        [  3.1100,   4.2657, -11.2222,  -1.5662,   5.3801],\n",
    "        [  9.8075,  20.3726,   8.2977,  17.8105,  13.0258],\n",
    "        [-10.6385,   1.3361,  -8.7170,  -6.2330,   0.7742],\n",
    "        [  0.3820,   5.4159,   3.8027,   4.2113,   7.6821],\n",
    "        [ -0.7813,  -0.5739,  -4.6014,  -1.5662,   5.3801]])"
   ]
  },
  {
   "cell_type": "markdown",
   "metadata": {},
   "source": [
    "TODO\n",
    "1. merge val+test sets and divided to trials with 1000 data per each trial run test per each and gather statistics\n",
    "    a. odor distribution ratio should be the same to make the chance level all the same\n",
    "2. do the same analysis for MBONs\n",
    "3. do the same analysis for PPL1+MBONs"
   ]
  },
  {
   "cell_type": "code",
   "execution_count": 462,
   "metadata": {},
   "outputs": [
    {
     "name": "stdout",
     "output_type": "stream",
     "text": [
      "(10, 5) (10,)\n"
     ]
    },
    {
     "ename": "ValueError",
     "evalue": "shapes (5,5) and (2,756981918) not aligned: 5 (dim 1) != 2 (dim 0)",
     "output_type": "error",
     "traceback": [
      "\u001b[0;31m---------------------------------------------------------------------------\u001b[0m",
      "\u001b[0;31mValueError\u001b[0m                                Traceback (most recent call last)",
      "\u001b[0;32m<ipython-input-462-6a9121b39544>\u001b[0m in \u001b[0;36m<module>\u001b[0;34m\u001b[0m\n\u001b[1;32m      1\u001b[0m \u001b[0mprint\u001b[0m\u001b[0;34m(\u001b[0m\u001b[0mX_test\u001b[0m\u001b[0;34m[\u001b[0m\u001b[0;34m:\u001b[0m\u001b[0;36m10\u001b[0m\u001b[0;34m,\u001b[0m\u001b[0;34m:\u001b[0m\u001b[0;34m]\u001b[0m\u001b[0;34m.\u001b[0m\u001b[0mshape\u001b[0m\u001b[0;34m,\u001b[0m \u001b[0my_test\u001b[0m\u001b[0;34m[\u001b[0m\u001b[0;34m:\u001b[0m\u001b[0;36m10\u001b[0m\u001b[0;34m]\u001b[0m\u001b[0;34m.\u001b[0m\u001b[0mshape\u001b[0m\u001b[0;34m)\u001b[0m\u001b[0;34m\u001b[0m\u001b[0;34m\u001b[0m\u001b[0m\n\u001b[1;32m      2\u001b[0m \u001b[0;34m\u001b[0m\u001b[0m\n\u001b[0;32m----> 3\u001b[0;31m \u001b[0mvisualize\u001b[0m\u001b[0;34m(\u001b[0m\u001b[0mX_test\u001b[0m\u001b[0;34m[\u001b[0m\u001b[0;34m:\u001b[0m\u001b[0;36m10\u001b[0m\u001b[0;34m,\u001b[0m\u001b[0;34m:\u001b[0m\u001b[0;34m]\u001b[0m\u001b[0;34m,\u001b[0m \u001b[0my_test\u001b[0m\u001b[0;34m[\u001b[0m\u001b[0;34m:\u001b[0m\u001b[0;36m10\u001b[0m\u001b[0;34m]\u001b[0m\u001b[0;34m,\u001b[0m \u001b[0mmodel\u001b[0m\u001b[0;34m)\u001b[0m\u001b[0;34m\u001b[0m\u001b[0;34m\u001b[0m\u001b[0m\n\u001b[0m",
      "\u001b[0;32m<ipython-input-457-c08014db4c66>\u001b[0m in \u001b[0;36mvisualize\u001b[0;34m(X, Y, model)\u001b[0m\n\u001b[1;32m    109\u001b[0m     \u001b[0mxy\u001b[0m \u001b[0;34m=\u001b[0m \u001b[0mlist\u001b[0m\u001b[0;34m(\u001b[0m\u001b[0mmap\u001b[0m\u001b[0;34m(\u001b[0m\u001b[0mnp\u001b[0m\u001b[0;34m.\u001b[0m\u001b[0mravel\u001b[0m\u001b[0;34m,\u001b[0m \u001b[0;34m[\u001b[0m\u001b[0mx\u001b[0m\u001b[0;34m,\u001b[0m \u001b[0my\u001b[0m\u001b[0;34m]\u001b[0m\u001b[0;34m)\u001b[0m\u001b[0;34m)\u001b[0m\u001b[0;34m\u001b[0m\u001b[0;34m\u001b[0m\u001b[0m\n\u001b[1;32m    110\u001b[0m \u001b[0;34m\u001b[0m\u001b[0m\n\u001b[0;32m--> 111\u001b[0;31m     \u001b[0mz\u001b[0m \u001b[0;34m=\u001b[0m \u001b[0;34m(\u001b[0m\u001b[0mW\u001b[0m\u001b[0;34m.\u001b[0m\u001b[0mdot\u001b[0m\u001b[0;34m(\u001b[0m\u001b[0mxy\u001b[0m\u001b[0;34m)\u001b[0m \u001b[0;34m+\u001b[0m \u001b[0mb\u001b[0m\u001b[0;34m)\u001b[0m\u001b[0;34m.\u001b[0m\u001b[0mreshape\u001b[0m\u001b[0;34m(\u001b[0m\u001b[0mx\u001b[0m\u001b[0;34m.\u001b[0m\u001b[0mshape\u001b[0m\u001b[0;34m)\u001b[0m\u001b[0;34m\u001b[0m\u001b[0;34m\u001b[0m\u001b[0m\n\u001b[0m\u001b[1;32m    112\u001b[0m     \u001b[0mz\u001b[0m\u001b[0;34m[\u001b[0m\u001b[0mnp\u001b[0m\u001b[0;34m.\u001b[0m\u001b[0mwhere\u001b[0m\u001b[0;34m(\u001b[0m\u001b[0mz\u001b[0m \u001b[0;34m>\u001b[0m \u001b[0;36m1.0\u001b[0m\u001b[0;34m)\u001b[0m\u001b[0;34m]\u001b[0m \u001b[0;34m=\u001b[0m \u001b[0;36m4\u001b[0m\u001b[0;34m\u001b[0m\u001b[0;34m\u001b[0m\u001b[0m\n\u001b[1;32m    113\u001b[0m     \u001b[0mz\u001b[0m\u001b[0;34m[\u001b[0m\u001b[0mnp\u001b[0m\u001b[0;34m.\u001b[0m\u001b[0mwhere\u001b[0m\u001b[0;34m(\u001b[0m\u001b[0;34m(\u001b[0m\u001b[0mz\u001b[0m \u001b[0;34m>\u001b[0m \u001b[0;36m0.0\u001b[0m\u001b[0;34m)\u001b[0m \u001b[0;34m&\u001b[0m \u001b[0;34m(\u001b[0m\u001b[0mz\u001b[0m \u001b[0;34m<=\u001b[0m \u001b[0;36m1.0\u001b[0m\u001b[0;34m)\u001b[0m\u001b[0;34m)\u001b[0m\u001b[0;34m]\u001b[0m \u001b[0;34m=\u001b[0m \u001b[0;36m3\u001b[0m\u001b[0;34m\u001b[0m\u001b[0;34m\u001b[0m\u001b[0m\n",
      "\u001b[0;31mValueError\u001b[0m: shapes (5,5) and (2,756981918) not aligned: 5 (dim 1) != 2 (dim 0)"
     ]
    }
   ],
   "source": [
    "print(X_test[:10,:].shape, y_test[:10].shape)\n",
    "\n",
    "visualize(X_test[:10,:], y_test[:10], model)"
   ]
  },
  {
   "cell_type": "code",
   "execution_count": 166,
   "metadata": {},
   "outputs": [
    {
     "name": "stdout",
     "output_type": "stream",
     "text": [
      "[ 0 -2 -1  0  1]\n"
     ]
    }
   ],
   "source": [
    "a = np.array([1 ,0 ,2, 0 ,1])\n",
    "b = np.array([1 ,2, 3 ,0 ,0])\n",
    "print(a - b)"
   ]
  },
  {
   "cell_type": "code",
   "execution_count": 199,
   "metadata": {},
   "outputs": [
    {
     "name": "stdout",
     "output_type": "stream",
     "text": [
      "tensor([ 1.,  5.,  4.,  1., 62.])\n",
      "tensor([ 1.,  5.,  4.,  1., 61.])\n",
      "0\n",
      "tensor(4)\n"
     ]
    }
   ],
   "source": [
    "a = torch.round(torch.tensor([1,5.3,4.2,1.4,61.6]))\n",
    "b = torch.tensor([1.0,5,4,1,61])\n",
    "print(a)\n",
    "print(b)\n",
    "sum = 0\n",
    "print(sum)\n",
    "sum += torch.sum(a==b)\n",
    "print(sum)"
   ]
  },
  {
   "cell_type": "code",
   "execution_count": 252,
   "metadata": {},
   "outputs": [
    {
     "name": "stdout",
     "output_type": "stream",
     "text": [
      "tensor([[23, 34],\n",
      "        [31, 46],\n",
      "        [39, 58]])\n",
      "tensor([[1, 2],\n",
      "        [3, 4]])\n",
      "tensor([[ 5,  6],\n",
      "        [ 7,  8],\n",
      "        [ 9, 10]])\n"
     ]
    }
   ],
   "source": [
    "a = torch.tensor([[1,2],[3,4]])\n",
    "b = torch.tensor([[5,6],[7,8],[9,10]])\n",
    "#print(torch.matmul(a,b))\n",
    "print(torch.matmul(b,a))\n",
    "print(a)\n",
    "print(b)"
   ]
  },
  {
   "cell_type": "code",
   "execution_count": 438,
   "metadata": {},
   "outputs": [
    {
     "name": "stdout",
     "output_type": "stream",
     "text": [
      "tensor([1, 2, 3, 4, 5])\n",
      "tensor([[1],\n",
      "        [2],\n",
      "        [3],\n",
      "        [4],\n",
      "        [5]])\n",
      "[0 1 2 3 4]\n"
     ]
    }
   ],
   "source": [
    "a = torch.tensor([1,2,3,4,5])\n",
    "b = a.unsqueeze(1)\n",
    "c = np.copy(a)\n",
    "c -= 1\n",
    "print(a)\n",
    "print(b)\n",
    "print(c)"
   ]
  },
  {
   "cell_type": "code",
   "execution_count": null,
   "metadata": {},
   "outputs": [],
   "source": []
  }
 ],
 "metadata": {
  "kernelspec": {
   "display_name": "Python 3",
   "language": "python",
   "name": "python3"
  },
  "language_info": {
   "codemirror_mode": {
    "name": "ipython",
    "version": 3
   },
   "file_extension": ".py",
   "mimetype": "text/x-python",
   "name": "python",
   "nbconvert_exporter": "python",
   "pygments_lexer": "ipython3",
   "version": "3.8.3"
  }
 },
 "nbformat": 4,
 "nbformat_minor": 4
}
